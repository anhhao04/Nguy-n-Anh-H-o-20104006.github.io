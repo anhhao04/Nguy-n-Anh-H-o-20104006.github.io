{
  "nbformat": 4,
  "nbformat_minor": 0,
  "metadata": {
    "colab": {
      "provenance": [],
      "collapsed_sections": [],
      "authorship_tag": "ABX9TyN88DHHIiEBbQKoL/TxolbR",
      "include_colab_link": true
    },
    "kernelspec": {
      "name": "python3",
      "display_name": "Python 3"
    },
    "language_info": {
      "name": "python"
    }
  },
  "cells": [
    {
      "cell_type": "markdown",
      "metadata": {
        "id": "view-in-github",
        "colab_type": "text"
      },
      "source": [
        "<a href=\"https://colab.research.google.com/github/anhhao04/NguyenAnhHao-20104006.github.io/blob/main/AI_18_10_2022.ipynb\" target=\"_parent\"><img src=\"https://colab.research.google.com/assets/colab-badge.svg\" alt=\"Open In Colab\"/></a>"
      ]
    },
    {
      "cell_type": "code",
      "execution_count": null,
      "metadata": {
        "colab": {
          "base_uri": "https://localhost:8080/"
        },
        "id": "1V8f41Au0nFE",
        "outputId": "a20a7dad-d620-4dc8-8cce-e4c0e87d926d"
      },
      "outputs": [
        {
          "output_type": "execute_result",
          "data": {
            "text/plain": [
              "((60000, 28, 28), (60000,), (10000, 28, 28), (10000,))"
            ]
          },
          "metadata": {},
          "execution_count": 52
        }
      ],
      "source": [
        "#Nhận dạng chữ số \n",
        "from keras.datasets import mnist\n",
        "(train_images,train_labels),(test_images,test_labels) = mnist.load_data()\n",
        "train_images.shape,train_labels.shape ,test_images.shape,test_labels.shape \n",
        "train_images.shape,train_labels.shape ,test_images.shape,test_labels.shape  "
      ]
    },
    {
      "cell_type": "code",
      "source": [
        "import matplotlib.pyplot as plt\n",
        "plt.imshow(train_images[5])\n",
        "plt.show()\n",
        "print(train_labels[5])"
      ],
      "metadata": {
        "colab": {
          "base_uri": "https://localhost:8080/",
          "height": 282
        },
        "id": "iBh1bB3v4iBv",
        "outputId": "5b4b7715-4882-4d43-9790-f453e9a74e89"
      },
      "execution_count": null,
      "outputs": [
        {
          "output_type": "display_data",
          "data": {
            "text/plain": [
              "<Figure size 432x288 with 1 Axes>"
            ],
            "image/png": "[encoded data removed]"
          },
          "metadata": {
            "needs_background": "light"
          }
        },
        {
          "output_type": "stream",
          "name": "stdout",
          "text": [
            "2\n"
          ]
        }
      ]
    },
    {
      "cell_type": "code",
      "source": [
        "from keras import models\n",
        "from keras import layers \n",
        "model = models.Sequential()\n",
        "model.add(layers.Dense(512,activation='relu',input_shape=(28*28,)))   #layers.Dense(output,hàm,input)\n",
        "model.add(layers.Dense(10,activation='softmax'))\n",
        "model.summary()"
      ],
      "metadata": {
        "colab": {
          "base_uri": "https://localhost:8080/"
        },
        "id": "2WHAXVX55rfG",
        "outputId": "a75082aa-0cdb-475d-b1e8-37aad17d51b1"
      },
      "execution_count": null,
      "outputs": [
        {
          "output_type": "stream",
          "name": "stdout",
          "text": [
            "Model: \"sequential_3\"\n",
            "_________________________________________________________________\n",
            " Layer (type)                Output Shape              Param #   \n",
            "=================================================================\n",
            " dense_6 (Dense)             (None, 512)               401920    \n",
            "                                                                 \n",
            " dense_7 (Dense)             (None, 10)                5130      \n",
            "                                                                 \n",
            "=================================================================\n",
            "Total params: 407,050\n",
            "Trainable params: 407,050\n",
            "Non-trainable params: 0\n",
            "_________________________________________________________________\n"
          ]
        }
      ]
    },
    {
      "cell_type": "code",
      "source": [
        "from keras.datasets import mnist\n",
        "(train_images,train_labels),(test_images,test_labels)=mnist.load_data()\n",
        "train_images=train_images.reshape((60000,28*28,))\n",
        "train_images=train_images.astype('float32')/255   #kiểu số thực\n",
        "test_images=test_images.reshape((10000,28*28))   #chuyển đổi kích thước\n",
        "test_images=test_images.astype('float32')/255 \n"
      ],
      "metadata": {
        "id": "6TTwFXnM9X-1"
      },
      "execution_count": null,
      "outputs": []
    },
    {
      "cell_type": "code",
      "source": [
        "from keras.utils import to_categorical\n",
        "train_labels=to_categorical(train_labels)\n",
        "test_labels=to_categorical(test_labels)\n",
        "train_labels.shape, test_labels.shape\n"
      ],
      "metadata": {
        "id": "kyrizM0P_TLD",
        "colab": {
          "base_uri": "https://localhost:8080/"
        },
        "outputId": "0ddc0f2a-8be4-4335-9e13-f957ba963232"
      },
      "execution_count": null,
      "outputs": [
        {
          "output_type": "execute_result",
          "data": {
            "text/plain": [
              "((60000, 10), (10000, 10))"
            ]
          },
          "metadata": {},
          "execution_count": 56
        }
      ]
    },
    {
      "cell_type": "code",
      "source": [
        "model.compile(optimizer='rmsprop',loss = 'categorical_crossentropy',metrics=['accuracy']) #dạy 100 lần mỗi lần 128 dữ liệu\n",
        "model.fit(train_images,train_labels,epochs=100,batch_size=128)"
      ],
      "metadata": {
        "colab": {
          "base_uri": "https://localhost:8080/"
        },
        "id": "qEFQaU0uCh2-",
        "outputId": "14a06568-6482-4f88-a5d8-357808899201"
      },
      "execution_count": null,
      "outputs": [
        {
          "output_type": "stream",
          "name": "stdout",
          "text": [
            "Epoch 1/100\n",
            "469/469 [==============================] - 3s 6ms/step - loss: 0.2607 - accuracy: 0.9245\n",
            "Epoch 2/100\n",
            "469/469 [==============================] - 3s 6ms/step - loss: 0.1034 - accuracy: 0.9694\n",
            "Epoch 3/100\n",
            "469/469 [==============================] - 3s 6ms/step - loss: 0.0685 - accuracy: 0.9796\n",
            "Epoch 4/100\n",
            "469/469 [==============================] - 3s 6ms/step - loss: 0.0507 - accuracy: 0.9849\n",
            "Epoch 5/100\n",
            "469/469 [==============================] - 3s 6ms/step - loss: 0.0377 - accuracy: 0.9887\n",
            "Epoch 6/100\n",
            "469/469 [==============================] - 3s 6ms/step - loss: 0.0289 - accuracy: 0.9913\n",
            "Epoch 7/100\n",
            "469/469 [==============================] - 3s 6ms/step - loss: 0.0223 - accuracy: 0.9930\n",
            "Epoch 8/100\n",
            "469/469 [==============================] - 3s 6ms/step - loss: 0.0167 - accuracy: 0.9948\n",
            "Epoch 9/100\n",
            "469/469 [==============================] - 3s 6ms/step - loss: 0.0131 - accuracy: 0.9964\n",
            "Epoch 10/100\n",
            "469/469 [==============================] - 3s 6ms/step - loss: 0.0105 - accuracy: 0.9970\n",
            "Epoch 11/100\n",
            "469/469 [==============================] - 3s 6ms/step - loss: 0.0078 - accuracy: 0.9980\n",
            "Epoch 12/100\n",
            "469/469 [==============================] - 3s 6ms/step - loss: 0.0060 - accuracy: 0.9983\n",
            "Epoch 13/100\n",
            "469/469 [==============================] - 3s 6ms/step - loss: 0.0049 - accuracy: 0.9987\n",
            "Epoch 14/100\n",
            "469/469 [==============================] - 3s 6ms/step - loss: 0.0039 - accuracy: 0.9990\n",
            "Epoch 15/100\n",
            "469/469 [==============================] - 3s 6ms/step - loss: 0.0032 - accuracy: 0.9991\n",
            "Epoch 16/100\n",
            "469/469 [==============================] - 3s 7ms/step - loss: 0.0025 - accuracy: 0.9994\n",
            "Epoch 17/100\n",
            "469/469 [==============================] - 3s 6ms/step - loss: 0.0017 - accuracy: 0.9995\n",
            "Epoch 18/100\n",
            "469/469 [==============================] - 3s 6ms/step - loss: 0.0017 - accuracy: 0.9996\n",
            "Epoch 19/100\n",
            "469/469 [==============================] - 3s 6ms/step - loss: 0.0011 - accuracy: 0.9996\n",
            "Epoch 20/100\n",
            "469/469 [==============================] - 3s 6ms/step - loss: 8.7372e-04 - accuracy: 0.9998\n",
            "Epoch 21/100\n",
            "469/469 [==============================] - 3s 6ms/step - loss: 6.7144e-04 - accuracy: 0.9999\n",
            "Epoch 22/100\n",
            "469/469 [==============================] - 3s 6ms/step - loss: 5.8709e-04 - accuracy: 0.9998\n",
            "Epoch 23/100\n",
            "469/469 [==============================] - 3s 6ms/step - loss: 4.1547e-04 - accuracy: 0.9999\n",
            "Epoch 24/100\n",
            "469/469 [==============================] - 3s 6ms/step - loss: 4.4083e-04 - accuracy: 0.9998\n",
            "Epoch 25/100\n",
            "469/469 [==============================] - 3s 6ms/step - loss: 2.5485e-04 - accuracy: 0.9999\n",
            "Epoch 26/100\n",
            "469/469 [==============================] - 3s 6ms/step - loss: 1.9176e-04 - accuracy: 1.0000\n",
            "Epoch 27/100\n",
            "469/469 [==============================] - 3s 6ms/step - loss: 3.5113e-04 - accuracy: 0.9999\n",
            "Epoch 28/100\n",
            "469/469 [==============================] - 3s 6ms/step - loss: 1.0716e-04 - accuracy: 1.0000\n",
            "Epoch 29/100\n",
            "469/469 [==============================] - 3s 6ms/step - loss: 1.9956e-04 - accuracy: 0.9999\n",
            "Epoch 30/100\n",
            "469/469 [==============================] - 3s 6ms/step - loss: 1.3902e-04 - accuracy: 1.0000\n",
            "Epoch 31/100\n",
            "469/469 [==============================] - 3s 6ms/step - loss: 9.1054e-05 - accuracy: 1.0000\n",
            "Epoch 32/100\n",
            "469/469 [==============================] - 3s 6ms/step - loss: 7.1234e-05 - accuracy: 0.9999\n",
            "Epoch 33/100\n",
            "469/469 [==============================] - 3s 6ms/step - loss: 7.8798e-05 - accuracy: 1.0000\n",
            "Epoch 34/100\n",
            "469/469 [==============================] - 3s 6ms/step - loss: 3.7952e-05 - accuracy: 1.0000\n",
            "Epoch 35/100\n",
            "469/469 [==============================] - 3s 6ms/step - loss: 3.5198e-05 - accuracy: 1.0000\n",
            "Epoch 36/100\n",
            "469/469 [==============================] - 3s 6ms/step - loss: 4.0585e-05 - accuracy: 1.0000\n",
            "Epoch 37/100\n",
            "469/469 [==============================] - 3s 6ms/step - loss: 1.9131e-05 - accuracy: 1.0000\n",
            "Epoch 38/100\n",
            "469/469 [==============================] - 3s 6ms/step - loss: 4.2668e-05 - accuracy: 1.0000\n",
            "Epoch 39/100\n",
            "469/469 [==============================] - 3s 6ms/step - loss: 1.8237e-05 - accuracy: 1.0000\n",
            "Epoch 40/100\n",
            "469/469 [==============================] - 3s 6ms/step - loss: 8.9536e-06 - accuracy: 1.0000\n",
            "Epoch 41/100\n",
            "469/469 [==============================] - 3s 6ms/step - loss: 2.5076e-06 - accuracy: 1.0000\n",
            "Epoch 42/100\n",
            "469/469 [==============================] - 3s 6ms/step - loss: 5.1283e-06 - accuracy: 1.0000\n",
            "Epoch 43/100\n",
            "469/469 [==============================] - 3s 6ms/step - loss: 3.6395e-07 - accuracy: 1.0000\n",
            "Epoch 44/100\n",
            "469/469 [==============================] - 3s 6ms/step - loss: 1.1230e-06 - accuracy: 1.0000\n",
            "Epoch 45/100\n",
            "469/469 [==============================] - 3s 6ms/step - loss: 5.1836e-08 - accuracy: 1.0000\n",
            "Epoch 46/100\n",
            "469/469 [==============================] - 3s 6ms/step - loss: 2.4400e-08 - accuracy: 1.0000\n",
            "Epoch 47/100\n",
            "469/469 [==============================] - 3s 6ms/step - loss: 2.0146e-08 - accuracy: 1.0000\n",
            "Epoch 48/100\n",
            "469/469 [==============================] - 3s 6ms/step - loss: 1.7228e-08 - accuracy: 1.0000\n",
            "Epoch 49/100\n",
            "469/469 [==============================] - 3s 6ms/step - loss: 1.5410e-08 - accuracy: 1.0000\n",
            "Epoch 50/100\n",
            "469/469 [==============================] - 3s 6ms/step - loss: 1.4083e-08 - accuracy: 1.0000\n",
            "Epoch 51/100\n",
            "469/469 [==============================] - 3s 6ms/step - loss: 1.3196e-08 - accuracy: 1.0000\n",
            "Epoch 52/100\n",
            "469/469 [==============================] - 3s 6ms/step - loss: 1.2459e-08 - accuracy: 1.0000\n",
            "Epoch 53/100\n",
            "469/469 [==============================] - 3s 7ms/step - loss: 1.1780e-08 - accuracy: 1.0000\n",
            "Epoch 54/100\n",
            "469/469 [==============================] - 3s 6ms/step - loss: 1.1156e-08 - accuracy: 1.0000\n",
            "Epoch 55/100\n",
            "469/469 [==============================] - 3s 6ms/step - loss: 1.0586e-08 - accuracy: 1.0000\n",
            "Epoch 56/100\n",
            "469/469 [==============================] - 3s 6ms/step - loss: 9.9460e-09 - accuracy: 1.0000\n",
            "Epoch 57/100\n",
            "469/469 [==============================] - 3s 6ms/step - loss: 9.6877e-09 - accuracy: 1.0000\n",
            "Epoch 58/100\n",
            "469/469 [==============================] - 3s 6ms/step - loss: 9.2725e-09 - accuracy: 1.0000\n",
            "Epoch 59/100\n",
            "469/469 [==============================] - 3s 6ms/step - loss: 9.0818e-09 - accuracy: 1.0000\n",
            "Epoch 60/100\n",
            "469/469 [==============================] - 3s 6ms/step - loss: 8.7261e-09 - accuracy: 1.0000\n",
            "Epoch 61/100\n",
            "469/469 [==============================] - 3s 6ms/step - loss: 8.4261e-09 - accuracy: 1.0000\n",
            "Epoch 62/100\n",
            "469/469 [==============================] - 3s 6ms/step - loss: 8.0903e-09 - accuracy: 1.0000\n",
            "Epoch 63/100\n",
            "469/469 [==============================] - 3s 6ms/step - loss: 7.9830e-09 - accuracy: 1.0000\n",
            "Epoch 64/100\n",
            "469/469 [==============================] - 3s 6ms/step - loss: 7.7109e-09 - accuracy: 1.0000\n",
            "Epoch 65/100\n",
            "469/469 [==============================] - 3s 6ms/step - loss: 7.5281e-09 - accuracy: 1.0000\n",
            "Epoch 66/100\n",
            "469/469 [==============================] - 3s 6ms/step - loss: 7.3453e-09 - accuracy: 1.0000\n",
            "Epoch 67/100\n",
            "469/469 [==============================] - 3s 6ms/step - loss: 7.1386e-09 - accuracy: 1.0000\n",
            "Epoch 68/100\n",
            "469/469 [==============================] - 3s 6ms/step - loss: 7.0373e-09 - accuracy: 1.0000\n",
            "Epoch 69/100\n",
            "469/469 [==============================] - 3s 6ms/step - loss: 6.8625e-09 - accuracy: 1.0000\n",
            "Epoch 70/100\n",
            "469/469 [==============================] - 3s 6ms/step - loss: 6.7254e-09 - accuracy: 1.0000\n",
            "Epoch 71/100\n",
            "469/469 [==============================] - 3s 6ms/step - loss: 6.5486e-09 - accuracy: 1.0000\n",
            "Epoch 72/100\n",
            "469/469 [==============================] - 3s 6ms/step - loss: 6.4135e-09 - accuracy: 1.0000\n",
            "Epoch 73/100\n",
            "469/469 [==============================] - 3s 6ms/step - loss: 6.2923e-09 - accuracy: 1.0000\n",
            "Epoch 74/100\n",
            "469/469 [==============================] - 3s 6ms/step - loss: 6.2128e-09 - accuracy: 1.0000\n",
            "Epoch 75/100\n",
            "469/469 [==============================] - 3s 6ms/step - loss: 6.0916e-09 - accuracy: 1.0000\n",
            "Epoch 76/100\n",
            "469/469 [==============================] - 3s 6ms/step - loss: 6.0280e-09 - accuracy: 1.0000\n",
            "Epoch 77/100\n",
            "469/469 [==============================] - 3s 6ms/step - loss: 5.9088e-09 - accuracy: 1.0000\n",
            "Epoch 78/100\n",
            "469/469 [==============================] - 3s 7ms/step - loss: 5.8591e-09 - accuracy: 1.0000\n",
            "Epoch 79/100\n",
            "469/469 [==============================] - 3s 6ms/step - loss: 5.7220e-09 - accuracy: 1.0000\n",
            "Epoch 80/100\n",
            "469/469 [==============================] - 3s 6ms/step - loss: 5.6605e-09 - accuracy: 1.0000\n",
            "Epoch 81/100\n",
            "469/469 [==============================] - 3s 6ms/step - loss: 5.5393e-09 - accuracy: 1.0000\n",
            "Epoch 82/100\n",
            "469/469 [==============================] - 3s 6ms/step - loss: 5.5055e-09 - accuracy: 1.0000\n",
            "Epoch 83/100\n",
            "469/469 [==============================] - 3s 6ms/step - loss: 5.4677e-09 - accuracy: 1.0000\n",
            "Epoch 84/100\n",
            "469/469 [==============================] - 3s 6ms/step - loss: 5.3803e-09 - accuracy: 1.0000\n",
            "Epoch 85/100\n",
            "469/469 [==============================] - 3s 6ms/step - loss: 5.3624e-09 - accuracy: 1.0000\n",
            "Epoch 86/100\n",
            "469/469 [==============================] - 3s 6ms/step - loss: 5.2830e-09 - accuracy: 1.0000\n",
            "Epoch 87/100\n",
            "469/469 [==============================] - 3s 6ms/step - loss: 5.2035e-09 - accuracy: 1.0000\n",
            "Epoch 88/100\n",
            "469/469 [==============================] - 3s 6ms/step - loss: 5.1657e-09 - accuracy: 1.0000\n",
            "Epoch 89/100\n",
            "469/469 [==============================] - 3s 6ms/step - loss: 5.1379e-09 - accuracy: 1.0000\n",
            "Epoch 90/100\n",
            "469/469 [==============================] - 3s 6ms/step - loss: 5.1479e-09 - accuracy: 1.0000\n",
            "Epoch 91/100\n",
            "469/469 [==============================] - 3s 6ms/step - loss: 5.0704e-09 - accuracy: 1.0000\n",
            "Epoch 92/100\n",
            "469/469 [==============================] - 3s 6ms/step - loss: 5.0306e-09 - accuracy: 1.0000\n",
            "Epoch 93/100\n",
            "469/469 [==============================] - 3s 7ms/step - loss: 5.0267e-09 - accuracy: 1.0000\n",
            "Epoch 94/100\n",
            "469/469 [==============================] - 3s 6ms/step - loss: 4.9611e-09 - accuracy: 1.0000\n",
            "Epoch 95/100\n",
            "469/469 [==============================] - 3s 6ms/step - loss: 4.9651e-09 - accuracy: 1.0000\n",
            "Epoch 96/100\n",
            "469/469 [==============================] - 3s 6ms/step - loss: 4.9432e-09 - accuracy: 1.0000\n",
            "Epoch 97/100\n",
            "469/469 [==============================] - 3s 6ms/step - loss: 4.9253e-09 - accuracy: 1.0000\n",
            "Epoch 98/100\n",
            "469/469 [==============================] - 3s 7ms/step - loss: 4.8399e-09 - accuracy: 1.0000\n",
            "Epoch 99/100\n",
            "469/469 [==============================] - 3s 7ms/step - loss: 4.8677e-09 - accuracy: 1.0000\n",
            "Epoch 100/100\n",
            "469/469 [==============================] - 3s 7ms/step - loss: 4.8200e-09 - accuracy: 1.0000\n"
          ]
        },
        {
          "output_type": "execute_result",
          "data": {
            "text/plain": [
              "<keras.callbacks.History at 0x7fc8da243910>"
            ]
          },
          "metadata": {},
          "execution_count": 57
        }
      ]
    },
    {
      "cell_type": "code",
      "source": [
        "test_loss,test_acc= model.evaluate(test_images,test_labels)\n",
        "print(\"Test accuracy:\",test_acc)"
      ],
      "metadata": {
        "id": "GZGyiNmeFppG",
        "colab": {
          "base_uri": "https://localhost:8080/"
        },
        "outputId": "bfa09017-8bf2-4a06-db97-45246b86d845"
      },
      "execution_count": null,
      "outputs": [
        {
          "output_type": "stream",
          "name": "stdout",
          "text": [
            "313/313 [==============================] - 17s 2ms/step - loss: 0.1538 - accuracy: 0.9834\n",
            "Test accuracy: 0.9833999872207642\n"
          ]
        }
      ]
    },
    {
      "cell_type": "code",
      "source": [
        "from keras.datasets import fashion_mnist\n",
        "(x_train,y_train),(x_test,y_test)=fashion_mnist.load_data()\n"
      ],
      "metadata": {
        "id": "RJ10I4iqHIpe"
      },
      "execution_count": 12,
      "outputs": []
    },
    {
      "cell_type": "code",
      "source": [
        "x_train.shape"
      ],
      "metadata": {
        "colab": {
          "base_uri": "https://localhost:8080/"
        },
        "id": "ucIEW66qHfRe",
        "outputId": "1a63f860-185a-41c0-cf63-e47e2f636e76"
      },
      "execution_count": null,
      "outputs": [
        {
          "output_type": "execute_result",
          "data": {
            "text/plain": [
              "(60000, 28, 28)"
            ]
          },
          "metadata": {},
          "execution_count": 17
        }
      ]
    },
    {
      "cell_type": "code",
      "source": [
        "y_train.shape"
      ],
      "metadata": {
        "colab": {
          "base_uri": "https://localhost:8080/"
        },
        "id": "UHqYD-ZBHfcK",
        "outputId": "6607b6e4-03bf-4eea-f897-15cb70f0f06c"
      },
      "execution_count": null,
      "outputs": [
        {
          "output_type": "execute_result",
          "data": {
            "text/plain": [
              "(60000,)"
            ]
          },
          "metadata": {},
          "execution_count": 18
        }
      ]
    },
    {
      "cell_type": "code",
      "source": [
        "x_test.shape"
      ],
      "metadata": {
        "colab": {
          "base_uri": "https://localhost:8080/"
        },
        "id": "1TZV4rfYHfkX",
        "outputId": "ba321588-e405-4591-d155-da6450a3f469"
      },
      "execution_count": null,
      "outputs": [
        {
          "output_type": "execute_result",
          "data": {
            "text/plain": [
              "(10000, 28, 28)"
            ]
          },
          "metadata": {},
          "execution_count": 19
        }
      ]
    },
    {
      "cell_type": "code",
      "source": [
        "y_test.shape"
      ],
      "metadata": {
        "colab": {
          "base_uri": "https://localhost:8080/"
        },
        "id": "KXTMBsvzHftI",
        "outputId": "4390bdb6-1870-4d46-b7a4-7ce2d4294901"
      },
      "execution_count": null,
      "outputs": [
        {
          "output_type": "execute_result",
          "data": {
            "text/plain": [
              "(10000,)"
            ]
          },
          "metadata": {},
          "execution_count": 20
        }
      ]
    },
    {
      "cell_type": "code",
      "source": [
        "class_names=['T-shirt/Top','Trousers','Pullover','Dress','Coat','Sandal','Shirt','Sneaker','Bag','Ankle boat'] "
      ],
      "metadata": {
        "id": "afACezddIZOj"
      },
      "execution_count": 13,
      "outputs": []
    },
    {
      "cell_type": "code",
      "source": [
        "import matplotlib.pyplot as plt\n",
        "plt.imshow(x_train[6])\n",
        "plt.show()\n",
        "print(class_names[y_train[6]])"
      ],
      "metadata": {
        "colab": {
          "base_uri": "https://localhost:8080/",
          "height": 282
        },
        "id": "-BRS3ID0I21R",
        "outputId": "dc2ecab2-4ab2-4b02-9514-29cd7345c21f"
      },
      "execution_count": 14,
      "outputs": [
        {
          "output_type": "display_data",
          "data": {
            "text/plain": [
              "<Figure size 432x288 with 1 Axes>"
            ],
            "image/png": "[encoded data removed]"
          },
          "metadata": {
            "needs_background": "light"
          }
        },
        {
          "output_type": "stream",
          "name": "stdout",
          "text": [
            "Sneaker\n"
          ]
        }
      ]
    },
    {
      "cell_type": "code",
      "source": [
        "from keras import models\n",
        "from keras import layers \n",
        "model = models.Sequential()\n",
        "model.add(layers.Dense(512,activation='relu',input_shape=(28*28,)))\n",
        "model.add(layers.Dense(10,activation='softmax'))   #layers.Dense(output,hàm,input)\n",
        "model.summary()"
      ],
      "metadata": {
        "colab": {
          "base_uri": "https://localhost:8080/"
        },
        "id": "B-zBip61LSWM",
        "outputId": "22ba9ffe-9313-4617-81e5-5ce55ffca28d"
      },
      "execution_count": 15,
      "outputs": [
        {
          "output_type": "stream",
          "name": "stdout",
          "text": [
            "Model: \"sequential_1\"\n",
            "_________________________________________________________________\n",
            " Layer (type)                Output Shape              Param #   \n",
            "=================================================================\n",
            " dense_2 (Dense)             (None, 512)               401920    \n",
            "                                                                 \n",
            " dense_3 (Dense)             (None, 10)                5130      \n",
            "                                                                 \n",
            "=================================================================\n",
            "Total params: 407,050\n",
            "Trainable params: 407,050\n",
            "Non-trainable params: 0\n",
            "_________________________________________________________________\n"
          ]
        }
      ]
    },
    {
      "cell_type": "code",
      "source": [
        "from keras.datasets import fashion_mnist\n",
        "(x_train,y_train),(x_test,y_test)=fashion_mnist.load_data()\n",
        "x_train=x_train.reshape((60000,28*28,))\n",
        "x_train=x_train.astype('float32')/255   #kiểu số thực\n",
        "x_test=x_test.reshape((10000,28*28))   #chuyển đổi kích thước\n",
        "x_test=x_test.astype('float32')/255 "
      ],
      "metadata": {
        "id": "mffxurJ6MFJ_"
      },
      "execution_count": 16,
      "outputs": []
    },
    {
      "cell_type": "code",
      "source": [
        "from keras.utils import to_categorical\n",
        "y_train = to_categorical(y_train)\n",
        "y_test = to_categorical(y_test)\n",
        "y_train.shape"
      ],
      "metadata": {
        "id": "ffmnruuDP_E9",
        "colab": {
          "base_uri": "https://localhost:8080/"
        },
        "outputId": "465270b4-429d-4f1e-ebc7-bffbeccefd6e"
      },
      "execution_count": 17,
      "outputs": [
        {
          "output_type": "execute_result",
          "data": {
            "text/plain": [
              "(60000, 10)"
            ]
          },
          "metadata": {},
          "execution_count": 17
        }
      ]
    },
    {
      "cell_type": "code",
      "source": [
        "model.compile(optimizer='rmsprop',loss = 'categorical_crossentropy',metrics=['accuracy']) #dạy 100 lần mỗi lần 128 dữ liệu\n",
        "model.fit(x_train,y_train,epochs=10,batch_size=128)"
      ],
      "metadata": {
        "colab": {
          "base_uri": "https://localhost:8080/"
        },
        "id": "jDCf2INrMPGy",
        "outputId": "b519c30c-9b37-48f5-a395-30adbdc74438"
      },
      "execution_count": 18,
      "outputs": [
        {
          "output_type": "stream",
          "name": "stdout",
          "text": [
            "Epoch 1/10\n",
            "469/469 [==============================] - 7s 13ms/step - loss: 0.5589 - accuracy: 0.8005\n",
            "Epoch 2/10\n",
            "469/469 [==============================] - 6s 13ms/step - loss: 0.3807 - accuracy: 0.8595\n",
            "Epoch 3/10\n",
            "469/469 [==============================] - 6s 13ms/step - loss: 0.3375 - accuracy: 0.8761\n",
            "Epoch 4/10\n",
            "469/469 [==============================] - 7s 14ms/step - loss: 0.3099 - accuracy: 0.8858\n",
            "Epoch 5/10\n",
            "469/469 [==============================] - 10s 21ms/step - loss: 0.2914 - accuracy: 0.8916\n",
            "Epoch 6/10\n",
            "469/469 [==============================] - 6s 13ms/step - loss: 0.2789 - accuracy: 0.8974\n",
            "Epoch 7/10\n",
            "469/469 [==============================] - 6s 13ms/step - loss: 0.2643 - accuracy: 0.9015\n",
            "Epoch 8/10\n",
            "469/469 [==============================] - 7s 15ms/step - loss: 0.2533 - accuracy: 0.9053\n",
            "Epoch 9/10\n",
            "469/469 [==============================] - 9s 20ms/step - loss: 0.2427 - accuracy: 0.9092\n",
            "Epoch 10/10\n",
            "469/469 [==============================] - 8s 16ms/step - loss: 0.2348 - accuracy: 0.9127\n"
          ]
        },
        {
          "output_type": "execute_result",
          "data": {
            "text/plain": [
              "<keras.callbacks.History at 0x7f51faf27c10>"
            ]
          },
          "metadata": {},
          "execution_count": 18
        }
      ]
    },
    {
      "cell_type": "code",
      "source": [
        "from keras.utils import img_to_array \n",
        "from keras.utils import load_img\n",
        "import numpy as np\n",
        "url='/content/1.jpg'\n",
        "img=load_img(url,target_size=(28,28))\n",
        "plt.imshow(img)\n",
        "img=img_to_array(img)\n",
        "img=img.reshape(1,28,28,3)\n",
        "img=img.astype(\"float32\")\n",
        "img=img/255\n",
        "img=img.reshape(-1,784)\n",
        "np.argmax(model.predict(img),axis=1)\n",
        "print(model.predict(img))"
      ],
      "metadata": {
        "colab": {
          "base_uri": "https://localhost:8080/",
          "height": 404
        },
        "id": "XEL28D0RPCM-",
        "outputId": "096efe75-3fac-475a-a3ee-2a535f95df1a"
      },
      "execution_count": 30,
      "outputs": [
        {
          "output_type": "stream",
          "name": "stdout",
          "text": [
            "1/1 [==============================] - 0s 29ms/step\n",
            "1/1 [==============================] - 0s 24ms/step\n",
            "[[2.5746979e-07 1.6943793e-38 5.8700023e-38 0.0000000e+00 0.0000000e+00\n",
            "  0.0000000e+00 1.4523224e-17 0.0000000e+00 9.9999976e-01 0.0000000e+00]\n",
            " [7.4620345e-12 4.4813632e-23 1.0806893e-14 2.5270903e-19 8.5415300e-21\n",
            "  2.0691186e-16 2.1245998e-12 4.3145418e-21 1.0000000e+00 3.7491738e-18]\n",
            " [3.1740406e-17 5.0253024e-32 3.1030635e-21 6.2722814e-29 7.4074004e-30\n",
            "  2.4460689e-14 6.6791829e-20 7.8505352e-29 1.0000000e+00 1.1747604e-15]]\n"
          ]
        },
        {
          "output_type": "display_data",
          "data": {
            "text/plain": [
              "<Figure size 432x288 with 1 Axes>"
            ],
            "image/png": "[encoded data removed]"
          },
          "metadata": {
            "needs_background": "light"
          }
        }
      ]
    }
  ]
}