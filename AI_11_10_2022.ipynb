{
  "cells": [
    {
      "cell_type": "markdown",
      "metadata": {
        "id": "view-in-github",
        "colab_type": "text"
      },
      "source": [
        "<a href=\"https://colab.research.google.com/github/anhhao04/NguyenAnhHao-20104006.github.io/blob/main/AI_11_10_2022.ipynb\" target=\"_parent\"><img src=\"https://colab.research.google.com/assets/colab-badge.svg\" alt=\"Open In Colab\"/></a>"
      ]
    },
    {
      "cell_type": "code",
      "execution_count": 1,
      "metadata": {
        "colab": {
          "base_uri": "https://localhost:8080/"
        },
        "id": "CM5N5lJUtWmL",
        "outputId": "a2a7d478-d703-4e5f-e84c-b1f3811142a9"
      },
      "outputs": [
        {
          "output_type": "stream",
          "name": "stdout",
          "text": [
            "Độ chính xác 1.0\n",
            "[0 0 0 1]\n"
          ]
        }
      ],
      "source": [
        "import numpy as np\n",
        "from sklearn.linear_model import Perceptron\n",
        "x = [[0,0],[1,0],[0,1],[1,1]]   \n",
        "y = [0,1,1,1]                   \n",
        "model = Perceptron()\n",
        "model.fit(x,y)\n",
        "print('Độ chính xác',model.score(x,y)) \n",
        "x_test = [[0.5,0],[0.4,-0.2],[1,-0.5],[0.2,0.7]] \n",
        "y_test = model.predict(x_test)\n",
        "print(y_test)"
      ]
    },
    {
      "cell_type": "code",
      "execution_count": 2,
      "metadata": {
        "colab": {
          "base_uri": "https://localhost:8080/"
        },
        "id": "it925eub2gxY",
        "outputId": "1c2bf1f6-e347-4268-daa7-6d707ca36239"
      },
      "outputs": [
        {
          "output_type": "stream",
          "name": "stdout",
          "text": [
            "Độ chính xác 1.0\n",
            "[1 0 0 1]\n"
          ]
        }
      ],
      "source": [
        "import numpy as np\n",
        "from sklearn.linear_model import Perceptron\n",
        "x=[[-0.5,-0.5],[-0.5,0.5],[0.3,-0.5],[-0.1,1]]   \n",
        "y=[1,1,0,0]                   \n",
        "model = Perceptron()\n",
        "model.fit(x,y)\n",
        "print('Độ chính xác',model.score(x,y)) \n",
        "x_test = [[-0.5,-1],[0.5,-0.2],[1,-0.5],[0,-0.5]] \n",
        "y_test = model.predict(x_test)\n",
        "print(y_test)"
      ]
    },
    {
      "cell_type": "code",
      "source": [
        "import numpy as np\n",
        "from sklearn.linear_model import Perceptron\n",
        "from sklearn.model_selection import train_test_split \n",
        "import pandas as pd\n",
        "url = '/content/data_crab.csv'\n",
        "data = pd.read_csv(url)\n",
        "data = data[:100]\n",
        "x= data.drop(['sp','sex','index'],axis = True)\n",
        "y= data['sex'].replace(['M','F'],[1,0])\n",
        "x_train,x_test,y_train,y_test = train_test_split(x,y,test_size = 0.3)\n",
        "model = Perceptron()\n",
        "model.fit(x_train,y_train)\n",
        "print('Độ chính xác', model.score(x_train,y_train))\n",
        "x_input = [[8.1,6.7,16.1,19,7],[10.4,9.7,21.7,25.4,8.3]]\n",
        "y_output = model.predict(x_input)\n",
        "print(y_output)"
      ],
      "metadata": {
        "colab": {
          "base_uri": "https://localhost:8080/"
        },
        "id": "lEbg4zyzFUfe",
        "outputId": "ac52dce5-7172-4aae-b2b3-e66eda0d272f"
      },
      "execution_count": 10,
      "outputs": [
        {
          "output_type": "stream",
          "name": "stdout",
          "text": [
            "Độ chính xác 0.8428571428571429\n",
            "[0 0]\n"
          ]
        },
        {
          "output_type": "stream",
          "name": "stderr",
          "text": [
            "/usr/local/lib/python3.7/dist-packages/sklearn/base.py:451: UserWarning: X does not have valid feature names, but Perceptron was fitted with feature names\n",
            "  \"X does not have valid feature names, but\"\n"
          ]
        }
      ]
    },
    {
      "cell_type": "code",
      "source": [
        "import numpy as np\n",
        "from sklearn.linear_model import Perceptron\n",
        "from sklearn.model_selection import train_test_split \n",
        "from sklearn.datasets import load_iris\n",
        "import pandas as pd\n",
        "url = '/content/iris.csv'\n",
        "data = pd.read_csv(url)\n",
        "data = data[:100]\n",
        "x= data.drop(['variety'],axis = True)\n",
        "y= data['variety'].replace(['Setosa','Versicolor','Virginica'],[1,0,0])\n",
        "x_train,x_test,y_train,y_test = train_test_split(x,y,test_size = 0.3)\n",
        "model = Perceptron()\n",
        "model.fit(x_train,y_train)\n",
        "print('Độ chính xác', model.score(x_train,y_train))\n",
        "x_input = [[5.5,2.6,4.4,1.2],[5.8,4,1.2,0.2]]\n",
        "y_output = model.predict(x_input)\n",
        "print(y_output)"
      ],
      "metadata": {
        "colab": {
          "base_uri": "https://localhost:8080/"
        },
        "id": "D9G7XTpPFVms",
        "outputId": "831fc0cf-8c45-4ddc-bf57-fc288102c014"
      },
      "execution_count": 11,
      "outputs": [
        {
          "output_type": "stream",
          "name": "stdout",
          "text": [
            "Độ chính xác 1.0\n",
            "[0 1]\n"
          ]
        },
        {
          "output_type": "stream",
          "name": "stderr",
          "text": [
            "/usr/local/lib/python3.7/dist-packages/sklearn/base.py:451: UserWarning: X does not have valid feature names, but Perceptron was fitted with feature names\n",
            "  \"X does not have valid feature names, but\"\n"
          ]
        }
      ]
    }
  ],
  "metadata": {
    "colab": {
      "provenance": [],
      "authorship_tag": "ABX9TyMAeD/AKIrxRVEkjSKZBn30",
      "include_colab_link": true
    },
    "kernelspec": {
      "display_name": "Python 3",
      "name": "python3"
    },
    "language_info": {
      "name": "python"
    }
  },
  "nbformat": 4,
  "nbformat_minor": 0
}