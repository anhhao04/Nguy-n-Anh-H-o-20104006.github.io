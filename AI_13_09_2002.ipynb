{
  "nbformat": 4,
  "nbformat_minor": 0,
  "metadata": {
    "colab": {
      "provenance": [],
      "authorship_tag": "ABX9TyP6aD70pTJZj+tiVIE+u86H",
      "include_colab_link": true
    },
    "kernelspec": {
      "name": "python3",
      "display_name": "Python 3"
    },
    "language_info": {
      "name": "python"
    }
  },
  "cells": [
    {
      "cell_type": "markdown",
      "metadata": {
        "id": "view-in-github",
        "colab_type": "text"
      },
      "source": [
        "<a href=\"https://colab.research.google.com/github/anhhao04/baitap01.github.io/blob/main/AI_13_09_2002.ipynb\" target=\"_parent\"><img src=\"https://colab.research.google.com/assets/colab-badge.svg\" alt=\"Open In Colab\"/></a>"
      ]
    },
    {
      "cell_type": "code",
      "execution_count": null,
      "metadata": {
        "id": "wXUrctkjs9Xd"
      },
      "outputs": [],
      "source": [
        "from openpyxl import Workbook\n",
        "wb=Workbook()\n",
        "sheet=wb.active\n",
        "sheet['A1']='Nguyễn Anh Hào'\n",
        "sheet['B1']='20104006'\n",
        "sheet['A2']='Lê Thành Duy'\n",
        "sheet['B2']='20104003'\n",
        "wb.save('text.xlsx')\n"
      ]
    },
    {
      "cell_type": "code",
      "source": [
        "import openpyxl\n",
        "wb=openpyxl.load_workbook('text.xlsx')\n",
        "sheet=wb.active\n",
        "t1 = sheet['A1']\n",
        "t2 = sheet['B1']\n",
        "t3 = sheet.cell(row = 2,column = 1)\n",
        "t4 = sheet.cell(row = 2,column = 2)\n",
        "print(t1.value,t2.value)\n",
        "print(t3.value,t4.value)          \n"
      ],
      "metadata": {
        "id": "tg9MAloDuvVN"
      },
      "execution_count": null,
      "outputs": []
    },
    {
      "cell_type": "code",
      "source": [
        "import openpyxl \n",
        "my_wb = openpyxl.load_workbook('text.xlsx')\n",
        "my_sheet = my_wb.active\n",
        "c1 = my_sheet.cell(row=1, column=1) \n",
        "c1.value = \"Trịnh Bá Thịnh\"\n",
        "c2 = my_sheet.cell(row=1, column=2) \n",
        "c2.value = \"20104040\"\n",
        "c3 = my_sheet['A2']\n",
        "c3.value = \"Châu Ngọc Hoàng\"\n",
        "c4 = my_sheet['B2']\n",
        "c4.value = \"20104057\"\n",
        "my_wb.save('/content/text.xlsx')    \n"
      ],
      "metadata": {
        "id": "0-D_oVbLuzHz"
      },
      "execution_count": null,
      "outputs": []
    },
    {
      "cell_type": "code",
      "source": [
        "import openpyxl \n",
        "my_wb = openpyxl.load_workbook('text.xlsx')\n",
        "my_sheet = my_wb.active\n",
        "my_wb.create_sheet(index = 1, title = \"CDT\")\n",
        "my_wb.save('/content/text.xlsx')\n"
      ],
      "metadata": {
        "id": "xeE_rjhnu2PF"
      },
      "execution_count": null,
      "outputs": []
    },
    {
      "cell_type": "code",
      "source": [
        "import openpyxl\n",
        "my_path = '/content/text (1).xlsx'\n",
        "my_wb_obj = openpyxl.load_workbook(my_path)\n",
        "my_sheet_obj = my_wb_obj.active\n",
        "print(my_sheet_obj.max_row)     \n",
        "my_cell_ob=my_sheet_obj.cell(row=1,column=1)\n",
        "print(my_cell_ob.value)  \n"
      ],
      "metadata": {
        "id": "4q6WJZ1Ju6dF"
      },
      "execution_count": null,
      "outputs": []
    },
    {
      "cell_type": "code",
      "source": [
        "import openpyxl\n",
        "my_path = '/content/text (1).xlsx'\n",
        "my_wb_obj = openpyxl.load_workbook(my_path)\n",
        "my_sheet_obj = my_wb_obj.active\n",
        "print(my_sheet_obj.max_column)    \n"
      ],
      "metadata": {
        "id": "iikgKpQCvIHe"
      },
      "execution_count": null,
      "outputs": []
    },
    {
      "cell_type": "code",
      "source": [
        "my_wb_obj = openpyxl.load_workbook('text (1).xlsx')\n",
        "my_sheet_obj=my_wb_obj.active\n",
        "my_max_col=my_sheet_obj.max_column\n",
        "for i in range(1, my_max_col + 1):\n",
        "  my_cell_obj= my_sheet_obj.cell(row = 1, column = i)\n",
        "  print(my_cell_obj.value)   "
      ],
      "metadata": {
        "id": "JsEkHt-6vKLE"
      },
      "execution_count": null,
      "outputs": []
    },
    {
      "cell_type": "code",
      "source": [
        "my_wb_obj = openpyxl.load_workbook('text (1).xlsx')\n",
        "my_sheet_obj=my_wb_obj.active\n",
        "my_max_col=my_sheet_obj.max_column\n",
        "for i in range(1, my_max_col + 1):\n",
        "  my_cell_obj= my_sheet_obj.cell(row = 1, column = i)\n",
        "  print(my_cell_obj.value, end=” ”)   "
      ],
      "metadata": {
        "id": "q-NxueJ9vMzE"
      },
      "execution_count": null,
      "outputs": []
    },
    {
      "cell_type": "code",
      "source": [
        "my_wb_obj = openpyxl.load_workbook('text (1).xlsx')\n",
        "my_sheet_obj=my_wb_obj.active\n",
        "my_max_row=my_sheet_obj.max_column\n",
        "for i in range(1, my_max_row + 1):\n",
        "  my_cell_obj= my_sheet_obj.cell(row = i, column = 1)\n",
        "  print(my_cell_obj.value)   "
      ],
      "metadata": {
        "id": "e3K0Dl0EvOur"
      },
      "execution_count": null,
      "outputs": []
    },
    {
      "cell_type": "code",
      "source": [
        "import matplotlib.pyplot as plt \n",
        "import numpy as np \n",
        "x = np.arange(6)\n",
        "y = x + 1\n",
        "plt.plot(x,y,'o--')\n",
        "plt.show()  \n"
      ],
      "metadata": {
        "id": "_f_KmAzYvQ9s"
      },
      "execution_count": null,
      "outputs": []
    },
    {
      "cell_type": "code",
      "source": [
        "plt.plot(x,y,'o--')\n",
        "plt.plot(x,-y,'o-')\n",
        "plt.show() \n"
      ],
      "metadata": {
        "id": "sKQx1f0jvU96"
      },
      "execution_count": null,
      "outputs": []
    },
    {
      "cell_type": "code",
      "source": [
        "plt.plot(x,y,'o--')\n",
        "plt.plot(x,-y,'o-')\n",
        "plt.title('y=x và y=-x')\n",
        "plt.xlabel('x')\n",
        "plt.ylabel('y')\n",
        "plt.show()  \n"
      ],
      "metadata": {
        "id": "-prnMOfFvY46"
      },
      "execution_count": null,
      "outputs": []
    },
    {
      "cell_type": "code",
      "source": [
        "plt.plot(x,y,'o--')\n",
        "plt.plot(x,-y,'o-')\n",
        "plt.title('y=x và y=-x')\n",
        "plt.axis('off') \n",
        "plt.show()     \n"
      ],
      "metadata": {
        "id": "VBNGNFBAvd2c"
      },
      "execution_count": null,
      "outputs": []
    },
    {
      "cell_type": "code",
      "source": [
        "plt.plot(x,y,'o--')\n",
        "plt.plot(x,-y,'o-')\n",
        "plt.title('y=x và y=-x')\n",
        "plt.grid('on') \n",
        "plt.show()   \n"
      ],
      "metadata": {
        "id": "Mv0TbYYIvgnt"
      },
      "execution_count": null,
      "outputs": []
    },
    {
      "cell_type": "code",
      "source": [
        "N=16\n",
        "x=np.linspace(0,15,16)\n",
        "y=x\n",
        "plt.plot(x,y,'o--')\n",
        "plt.axis('off')\n",
        "plt.show()   \n"
      ],
      "metadata": {
        "id": "cETrau6kvjY0"
      },
      "execution_count": null,
      "outputs": []
    },
    {
      "cell_type": "code",
      "source": [
        "N=16\n",
        "x=np.linspace(0,15,16)\n",
        "y=np.logspace(0.1,2,16)\n",
        "plt.plot(x,y,'--o')   \n",
        "x=np.arange(26)\n",
        "plt.plot(x) \n",
        "plt.show()  \n"
      ],
      "metadata": {
        "id": "VyxrHWoqvncj"
      },
      "execution_count": null,
      "outputs": []
    },
    {
      "cell_type": "code",
      "source": [
        "x=np.arange(25)\n",
        "plt.plot(x,x**3+1)\n",
        "plt.show()  \n"
      ],
      "metadata": {
        "id": "5guflvIFvsaV"
      },
      "execution_count": null,
      "outputs": []
    },
    {
      "cell_type": "code",
      "source": [
        "x=np.arange(7)\n",
        "plt.plot(x,-x**2,'o--')\n",
        "plt.plot(x,-x**3,'--')\n",
        "plt.plot(x,-2*x,'-')\n",
        "plt.plot(x,-2**x,'o-')\n",
        "plt.show()          \n"
      ],
      "metadata": {
        "id": "tz-McntZv1l7"
      },
      "execution_count": null,
      "outputs": []
    },
    {
      "cell_type": "code",
      "source": [
        "x=np.arange(7)\n",
        "plt.plot(x,-x**2,x,-x**3,x,-2*x,x,-2**x)\n",
        "plt.show()    \n"
      ],
      "metadata": {
        "id": "WafvEdOMv5IG"
      },
      "execution_count": null,
      "outputs": []
    },
    {
      "cell_type": "code",
      "source": [
        "x=np.arange(3)\n",
        "plt.subplots_adjust(wspace=0.3,hspace=0.3) \n",
        "plt.subplot(2,2,1) \n",
        "plt.plot(x,x-x**2,color='g')\n",
        "plt.subplot(2,2,2) \n",
        "plt.plot(x,-x**3,color='r')\n",
        "plt.subplot(2,2,3) \n",
        "plt.plot(x,-2*x,color='b')\n",
        "plt.subplot(2,2,4) \n",
        "plt.plot(x,-2**x,color='orange')\n",
        "plt.show()\n"
      ],
      "metadata": {
        "id": "k_4Boqsav7Oe"
      },
      "execution_count": null,
      "outputs": []
    },
    {
      "cell_type": "code",
      "source": [
        "plt.axis([0,100,0,10])\n",
        "plt.scatter(25,5,s=1000,color='r',alpha=1)\n",
        "plt.scatter(45,5,s=1000,color='b',alpha=.5) \n",
        "plt.scatter(65,5,s=1000,color='black',alpha=.4)\n",
        "plt.show()\n"
      ],
      "metadata": {
        "id": "66mn7SPlwAWz"
      },
      "execution_count": null,
      "outputs": []
    },
    {
      "cell_type": "code",
      "source": [
        "plt.plot([0,1],[4,10],linewidth=5,color='r') \n",
        "plt.text(.95,10,'B') \n",
        "plt.show()  \n"
      ],
      "metadata": {
        "id": "EV8Kp1nwwDvE"
      },
      "execution_count": null,
      "outputs": []
    },
    {
      "cell_type": "code",
      "source": [
        "plt.axis([0,50,-20,50])\n",
        "plt.arrow(30,0,0,30,head_length=4,head_width=2,color='r') \n",
        "plt.show()   \n"
      ],
      "metadata": {
        "id": "mTl9cHRFwJkS"
      },
      "execution_count": null,
      "outputs": []
    },
    {
      "cell_type": "code",
      "source": [
        "x=np.arange(4)\n",
        "y= np.random.rand(4)  \n",
        "plt.bar(x,y)\n",
        "plt.show()\n"
      ],
      "metadata": {
        "id": "f008wMpMwOWi"
      },
      "execution_count": null,
      "outputs": []
    },
    {
      "cell_type": "code",
      "source": [
        "y=np.random.rand(3,4) \n",
        "plt.bar(x+0,y[0],color='b',width=0.25)\n",
        "plt.bar(x+0.25,y[1],color='g',width=0.25)  \n",
        "plt.bar(x+0.5,y[2],color='r',width=0.25) \n",
        "plt.show()\n"
      ],
      "metadata": {
        "id": "krekj09_wTId"
      },
      "execution_count": null,
      "outputs": []
    },
    {
      "cell_type": "code",
      "source": [
        "x=np.arange(4)\n",
        "y=np.random.rand(4) \n",
        "plt.barh(x,y)     \n",
        "plt.show()\n"
      ],
      "metadata": {
        "id": "Bj9K3Qd5wWf7"
      },
      "execution_count": null,
      "outputs": []
    },
    {
      "cell_type": "code",
      "source": [
        "N=1000\n",
        "x=np.random.rand(N)\n",
        "y=np.random.rand(N)\n",
        "colors=np.random.rand(N)\n",
        "size=20\n",
        "plt.scatter(x,y,s=size,c=colors,alpha=1)   \n",
        "plt.show()\n"
      ],
      "metadata": {
        "id": "GW_hrnMUwZZe"
      },
      "execution_count": null,
      "outputs": []
    }
  ]
}