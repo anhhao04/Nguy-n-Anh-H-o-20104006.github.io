{
  "nbformat": 4,
  "nbformat_minor": 0,
  "metadata": {
    "colab": {
      "provenance": [],
      "authorship_tag": "ABX9TyP8u1JthjVmlzgapZ+6WYLe",
      "include_colab_link": true
    },
    "kernelspec": {
      "name": "python3",
      "display_name": "Python 3"
    },
    "language_info": {
      "name": "python"
    }
  },
  "cells": [
    {
      "cell_type": "markdown",
      "metadata": {
        "id": "view-in-github",
        "colab_type": "text"
      },
      "source": [
        "<a href=\"https://colab.research.google.com/github/anhhao04/baitap01.github.io/blob/main/AI_06_09_2022_.ipynb\" target=\"_parent\"><img src=\"https://colab.research.google.com/assets/colab-badge.svg\" alt=\"Open In Colab\"/></a>"
      ]
    },
    {
      "cell_type": "code",
      "execution_count": 1,
      "metadata": {
        "id": "uFoskJ_hpZG3"
      },
      "outputs": [],
      "source": [
        "with open('text.txt',mode='w') as accounts:\n",
        "  accounts.write('1 Nguyen Van A 8.0\\n')\n",
        "  accounts.write('2 Le Thi B 6.8\\n') "
      ]
    },
    {
      "cell_type": "code",
      "source": [
        "with open('text.txt',mode='w') as accounts: \n",
        "  print('7:00  Nguyen Anh Hao',file=accounts)\n",
        "  print('7:01  Le Thanh Duy',file=accounts) "
      ],
      "metadata": {
        "id": "S_S5IEwLrJND"
      },
      "execution_count": null,
      "outputs": []
    },
    {
      "cell_type": "code",
      "source": [
        "import pandas as pd \n",
        "url='/content/AI.csv' \n",
        "dataframe = pd.read_csv(url)\n",
        "dataframe.head(5)  "
      ],
      "metadata": {
        "id": "SNEsSmA2reme"
      },
      "execution_count": null,
      "outputs": []
    },
    {
      "cell_type": "code",
      "source": [
        "import pandas as pd\n",
        "dataframe=pd.DataFrame()\n",
        "dataframe['Họ và tên']=['Nguyen Anh Hao','Le Thanh Duy']\n",
        "dataframe['Mssv']=[20104006,20104003]\n",
        "dataframe['Điểm']=[8,9]     \n",
        "dataframe"
      ],
      "metadata": {
        "id": "gUSqWdwrrg-2"
      },
      "execution_count": null,
      "outputs": []
    },
    {
      "cell_type": "code",
      "source": [
        "import pandas as pd \n",
        "url='/content/AI.csv' \n",
        "dataframe = pd.read_csv(url)\n",
        "dataframe.head(21) \n",
        "dataframe.iloc[1:5]  "
      ],
      "metadata": {
        "id": "fZWppp9trkt1"
      },
      "execution_count": null,
      "outputs": []
    },
    {
      "cell_type": "code",
      "source": [
        "import pandas as pd \n",
        "url='/content/AI.csv' \n",
        "dataframe = pd.read_csv(url)\n",
        "dataframe.head(10)\n",
        "dataframe[:4]\n",
        "dataframe=dataframe.set_index(dataframe['Họ và tên'])\n",
        "dataframe.loc['Nguyễn Anh Hào']  \n"
      ],
      "metadata": {
        "id": "KyiE5WC7r2EL"
      },
      "execution_count": null,
      "outputs": []
    },
    {
      "cell_type": "code",
      "source": [
        "import pandas as pd \n",
        "url='/content/AI.csv' \n",
        "dataframe = pd.read_csv(url)\n",
        "dataframe[dataframe['Khoa']=='CKM'].head(5) \n"
      ],
      "metadata": {
        "id": "XPrEEEdQr8Jz"
      },
      "execution_count": null,
      "outputs": []
    },
    {
      "cell_type": "code",
      "source": [
        "import pandas as pd \n",
        "url='/content/AI.csv' \n",
        "dataframe = pd.read_csv(url)\n",
        "dataframe['Khoa'].unique() \n",
        "dataframe['Khoa'].value_counts() \n"
      ],
      "metadata": {
        "id": "W9iRYQ7Ar-gO"
      },
      "execution_count": null,
      "outputs": []
    },
    {
      "cell_type": "code",
      "source": [
        "import pandas as pd \n",
        "url='/content/AI.csv' \n",
        "dataframe = pd.read_csv(url) \n",
        "dataframe.drop('Điểm', axis=1).head(9) \n"
      ],
      "metadata": {
        "id": "Pkqbif6_sBa0"
      },
      "execution_count": null,
      "outputs": []
    },
    {
      "cell_type": "code",
      "source": [
        "import pandas as pd \n",
        "url='/content/AI.csv' \n",
        "dataframe = pd.read_csv(url) \n",
        "dataframe.groupby('Khoa').mean() \n"
      ],
      "metadata": {
        "id": "WqWmv4txsDxq"
      },
      "execution_count": null,
      "outputs": []
    },
    {
      "cell_type": "code",
      "source": [
        "import pandas as pd \n",
        "url='/content/AI.csv' \n",
        "dataframe = pd.read_csv(url)\n",
        "print(dataframe['Điểm'].min()) \n",
        "print(dataframe['Điểm'].max())\n"
      ],
      "metadata": {
        "id": "_7so3DZYsF8z"
      },
      "execution_count": null,
      "outputs": []
    },
    {
      "cell_type": "code",
      "source": [],
      "metadata": {
        "id": "fM__xM6KsIsc"
      },
      "execution_count": null,
      "outputs": []
    }
  ]
}